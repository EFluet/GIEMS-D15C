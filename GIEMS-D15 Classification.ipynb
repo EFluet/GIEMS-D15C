{
 "cells": [
  {
   "cell_type": "markdown",
   "metadata": {},
   "source": [
    "## Classify GIEMS-D15 into wetland types\n",
    "Start with GIEMS-D15; remove agricultural areas from GIEMS-D15 and keep rice as a\n",
    "\n",
    "| Value  | Description                              |\n",
    "|--------|------------------------------------------|\n",
    "| 0      | Non inundated land                       |\n",
    "| 1      | Mean annual minimum inundation (MAMin)   |\n",
    "| 2      | Mean annual maximum inundation (MAMax)   |\n",
    "| 3      | Long term maximum inundation (LTMax      |\n",
    "| NoData (255???) | Ocean, Antarctica and other areas excluded from the land mask (e.g. small islands).  |\n",
    "\n",
    "\n",
    "<img src=\"Global_GIEMSD15_27Jan2015_lores.jpg\">"
   ]
  },
  {
   "cell_type": "markdown",
   "metadata": {},
   "source": []
  },
  {
   "cell_type": "markdown",
   "metadata": {},
   "source": []
  },
  {
   "cell_type": "markdown",
   "metadata": {},
   "source": [
    "![title](\"Global_GIEMSD15_27Jan2015_lores.jpg\")"
   ]
  },
  {
   "cell_type": "markdown",
   "metadata": {},
   "source": [
    "Convert GeoTIFF of GIEMS-D15 to numpy array with GDAL. \n",
    "Over lay the two sources of rice and agriculture data t o"
   ]
  },
  {
   "cell_type": "code",
   "execution_count": null,
   "metadata": {
    "collapsed": true
   },
   "outputs": [],
   "source": []
  }
 ],
 "metadata": {
  "kernelspec": {
   "display_name": "Python 2",
   "language": "python",
   "name": "python2"
  },
  "language_info": {
   "codemirror_mode": {
    "name": "ipython",
    "version": 2
   },
   "file_extension": ".py",
   "mimetype": "text/x-python",
   "name": "python",
   "nbconvert_exporter": "python",
   "pygments_lexer": "ipython2",
   "version": "2.7.11"
  }
 },
 "nbformat": 4,
 "nbformat_minor": 0
}
